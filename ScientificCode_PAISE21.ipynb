{
  "nbformat": 4,
  "nbformat_minor": 0,
  "metadata": {
    "colab": {
      "name": "Scientific_code.ipynb",
      "provenance": [],
      "collapsed_sections": []
    },
    "kernelspec": {
      "name": "python3",
      "display_name": "Python 3"
    },
    "accelerator": "GPU"
  },
  "cells": [
    {
      "cell_type": "markdown",
      "metadata": {
        "id": "q4KTBswJGhII"
      },
      "source": [
        "### Multi scale Regularized least squares\n",
        "\n",
        "This is just a demo code used to simulate performance impacts."
      ]
    },
    {
      "cell_type": "code",
      "metadata": {
        "id": "PlmHLDhAAtE7"
      },
      "source": [
        "import tensorflow as tf\n",
        "import timeit\n",
        "import matplotlib.pyplot as plt\n",
        "import numpy as np\n",
        "from time import sleep"
      ],
      "execution_count": 1,
      "outputs": []
    },
    {
      "cell_type": "code",
      "metadata": {
        "id": "K5cx1QQtA4JM"
      },
      "source": [
        "def Scientific_Code(D1, D2, D3):\n",
        "    penalty = tf.constant(0.0)\n",
        "    with tf.device(D1):\n",
        "      penalty = math_task(50,penalty)\n",
        "\n",
        "    with tf.device(D2):\n",
        "      penalty = math_task(75,penalty)\n",
        "\n",
        "    with tf.device(D3):\n",
        "      penalty = math_task(300,penalty)\n",
        "\n",
        "\n",
        "def math_task(size, penalty):\n",
        "    for loop in range(10):\n",
        "      A = tf.random.uniform([size,size])\n",
        "      B = tf.random.uniform([size,size])\n",
        "      Z = tf.linalg.lstsq(A, B, l2_regularizer=penalty.numpy(), fast=False, name=None)\n",
        "      penalty = tf.norm(tf.matmul(A,Z) - B)\n",
        "\n",
        "    return penalty"
      ],
      "execution_count": 79,
      "outputs": []
    },
    {
      "cell_type": "markdown",
      "metadata": {
        "id": "8_qulYEDHpV1"
      },
      "source": [
        "**Different CPU - GPU splits**"
      ]
    },
    {
      "cell_type": "code",
      "metadata": {
        "id": "54-U66csB0wG"
      },
      "source": [
        "GPU = '/device:GPU:0'\n",
        "CPU = '/cpu:0'\n",
        "\n",
        "def run_ggg():\n",
        "  out = Scientific_Code(GPU,GPU,GPU)\n",
        "\n",
        "def run_cgg():\n",
        "  out = Scientific_Code(CPU,GPU,GPU)\n",
        "\n",
        "def run_ccg():\n",
        "  out = Scientific_Code(CPU,CPU,GPU)\n",
        "\n",
        "def run_ccc():\n",
        "  out = Scientific_Code(CPU,CPU,CPU)\n",
        "\n",
        "def run_ggc():\n",
        "  out = Scientific_Code(GPU,GPU,CPU)\n",
        "\n",
        "def run_gcg():\n",
        "  out = Scientific_Code(GPU,CPU,GPU)\n",
        "\n",
        "def run_cgc():\n",
        "  out = Scientific_Code(CPU,GPU,CPU)\n",
        "\n",
        "def run_gcc():\n",
        "  out = Scientific_Code(GPU,CPU,CPU)"
      ],
      "execution_count": 64,
      "outputs": []
    },
    {
      "cell_type": "markdown",
      "metadata": {
        "id": "LuN7l2wHH2M7"
      },
      "source": [
        "**Run code**"
      ]
    },
    {
      "cell_type": "code",
      "metadata": {
        "id": "PfjiTcyiCyAC"
      },
      "source": [
        "ggg = []\n",
        "for i in range(50):\n",
        "  ggg.append(timeit.timeit('run_ggg()', number=1, setup=\"from __main__ import run_ggg\"))"
      ],
      "execution_count": 65,
      "outputs": []
    },
    {
      "cell_type": "code",
      "metadata": {
        "id": "yhUA1Lb2C6IN"
      },
      "source": [
        "cgg = []\n",
        "for i in range(50):\n",
        "  cgg.append(timeit.timeit('run_cgg()', number=1, setup=\"from __main__ import run_cgg\"))"
      ],
      "execution_count": 67,
      "outputs": []
    },
    {
      "cell_type": "code",
      "metadata": {
        "id": "o-4dIk7fD3V-"
      },
      "source": [
        "ccg = []\n",
        "for i in range(50):\n",
        "  ccg.append(timeit.timeit('run_ccg()', number=1, setup=\"from __main__ import run_ccg\"))"
      ],
      "execution_count": 68,
      "outputs": []
    },
    {
      "cell_type": "code",
      "metadata": {
        "id": "_SLKWnGeD6jR"
      },
      "source": [
        "ccc = []\n",
        "for i in range(50):\n",
        "  ccc.append(timeit.timeit('run_ccc()', number=1, setup=\"from __main__ import run_ccc\"))"
      ],
      "execution_count": 69,
      "outputs": []
    },
    {
      "cell_type": "code",
      "metadata": {
        "id": "SqXoPKGnGAlh"
      },
      "source": [
        "ggc = []\n",
        "for i in range(50):\n",
        "  ggc.append(timeit.timeit('run_ggc()', number=1, setup=\"from __main__ import run_ggc\"))"
      ],
      "execution_count": 70,
      "outputs": []
    },
    {
      "cell_type": "code",
      "metadata": {
        "id": "0i3k-kg8GCyz"
      },
      "source": [
        "gcg = []\n",
        "for i in range(50):\n",
        "  gcg.append(timeit.timeit('run_gcg()', number=1, setup=\"from __main__ import run_gcg\"))"
      ],
      "execution_count": 71,
      "outputs": []
    },
    {
      "cell_type": "code",
      "metadata": {
        "id": "1ALraPaoGFdg"
      },
      "source": [
        "cgc = []\n",
        "for i in range(50):\n",
        "  cgc.append(timeit.timeit('run_cgc()', number=1, setup=\"from __main__ import run_cgc\"))"
      ],
      "execution_count": 72,
      "outputs": []
    },
    {
      "cell_type": "code",
      "metadata": {
        "id": "esiPGAOzGI8M"
      },
      "source": [
        "gcc = []\n",
        "for i in range(50):\n",
        "  gcc.append(timeit.timeit('run_gcc()', number=1, setup=\"from __main__ import run_gcc\"))"
      ],
      "execution_count": 73,
      "outputs": []
    },
    {
      "cell_type": "markdown",
      "metadata": {
        "id": "W7wID7a3H9c6"
      },
      "source": [
        "### **Plot Graphs**"
      ]
    },
    {
      "cell_type": "code",
      "metadata": {
        "colab": {
          "base_uri": "https://localhost:8080/",
          "height": 320
        },
        "id": "Sl_6qgt0GK7Q",
        "outputId": "248408f9-9b09-448d-b944-2ded4a8eda99"
      },
      "source": [
        "plt.hist(ggg,range=rng,alpha=0.5,bins=50,color='#f0b27a',label='GGG')\n",
        "plt.hist(ccc,range=rng,alpha=0.5,bins=50,color='#a9cce3',label='CCC')\n",
        "plt.hist(ccg,range=rng,alpha=0.5,bins=50,color='#1abc9c',label='CCG')\n",
        "plt.legend(prop={'size': 18})\n",
        "plt.show()"
      ],
      "execution_count": 75,
      "outputs": [
        {
          "output_type": "display_data",
          "data": {
            "image/png": "[encoded data removed]",
            "text/plain": [
              "<Figure size 720x360 with 1 Axes>"
            ]
          },
          "metadata": {
            "tags": [],
            "needs_background": "light"
          }
        }
      ]
    },
    {
      "cell_type": "code",
      "metadata": {
        "colab": {
          "base_uri": "https://localhost:8080/",
          "height": 320
        },
        "id": "9uSUOsPyGOs-",
        "outputId": "142f58c5-87ac-4d01-eb3a-1bc25024566b"
      },
      "source": [
        "plt.hist(ccg,range=rng,alpha=0.5,bins=50,color='#1abc9c',label='CCG')\n",
        "plt.hist(gcc,range=rng,alpha=0.5,bins=50,color='#909497',label='GCC')\n",
        "plt.hist(cgc,range=rng,alpha=0.5,bins=50,color='r',label='CGC')\n",
        "plt.legend(prop={'size': 18})\n",
        "plt.show()"
      ],
      "execution_count": 76,
      "outputs": [
        {
          "output_type": "display_data",
          "data": {
            "image/png": "[encoded data removed]",
            "text/plain": [
              "<Figure size 720x360 with 1 Axes>"
            ]
          },
          "metadata": {
            "tags": [],
            "needs_background": "light"
          }
        }
      ]
    },
    {
      "cell_type": "code",
      "metadata": {
        "colab": {
          "base_uri": "https://localhost:8080/",
          "height": 320
        },
        "id": "K8o90mFTGZcM",
        "outputId": "1cd06cdb-5287-465e-b863-1f295ef7b310"
      },
      "source": [
        "plt.hist(ccg,range=rng,alpha=0.5,bins=50,color='#1abc9c',label='CCG')\n",
        "plt.hist(cgg,range=rng,alpha=0.5,bins=50,color='#f9e79f',label='CGG')\n",
        "plt.hist(gcg,range=rng,alpha=0.5,bins=50,color='#e6b0aa',label='GCG')\n",
        "plt.hist(ggc,range=rng,alpha=0.5,bins=50,color='#d7bde2',label='GGC')\n",
        "plt.legend(prop={'size': 18})\n",
        "plt.show()"
      ],
      "execution_count": 77,
      "outputs": [
        {
          "output_type": "display_data",
          "data": {
            "image/png": "[encoded data removed]",
            "text/plain": [
              "<Figure size 720x360 with 1 Axes>"
            ]
          },
          "metadata": {
            "tags": [],
            "needs_background": "light"
          }
        }
      ]
    },
    {
      "cell_type": "code",
      "metadata": {
        "id": "xCvgGAZpGdvH"
      },
      "source": [
        ""
      ],
      "execution_count": null,
      "outputs": []
    }
  ]
}